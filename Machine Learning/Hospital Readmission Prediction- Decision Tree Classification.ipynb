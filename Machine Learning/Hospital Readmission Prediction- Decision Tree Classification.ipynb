{
 "cells": [
  {
   "cell_type": "markdown",
   "metadata": {},
   "source": [
    "# Data Prep"
   ]
  },
  {
   "cell_type": "code",
   "execution_count": 1,
   "metadata": {},
   "outputs": [],
   "source": [
    "# Common Imports\n",
    "import numpy as np\n",
    "import pandas as pd\n",
    "np.random.seed(1)\n"
   ]
  },
  {
   "cell_type": "code",
   "execution_count": 2,
   "metadata": {},
   "outputs": [
    {
     "data": {
      "text/html": [
       "<div>\n",
       "<style scoped>\n",
       "    .dataframe tbody tr th:only-of-type {\n",
       "        vertical-align: middle;\n",
       "    }\n",
       "\n",
       "    .dataframe tbody tr th {\n",
       "        vertical-align: top;\n",
       "    }\n",
       "\n",
       "    .dataframe thead th {\n",
       "        text-align: right;\n",
       "    }\n",
       "</style>\n",
       "<table border=\"1\" class=\"dataframe\">\n",
       "  <thead>\n",
       "    <tr style=\"text-align: right;\">\n",
       "      <th></th>\n",
       "      <th>race</th>\n",
       "      <th>gender</th>\n",
       "      <th>age</th>\n",
       "      <th>admission_type</th>\n",
       "      <th>discharge_disposition</th>\n",
       "      <th>admission_source</th>\n",
       "      <th>time_in_hospital</th>\n",
       "      <th>payer_code</th>\n",
       "      <th>medical_specialty</th>\n",
       "      <th>num_lab_procedures</th>\n",
       "      <th>...</th>\n",
       "      <th>diag_1</th>\n",
       "      <th>diag_2</th>\n",
       "      <th>diag_3</th>\n",
       "      <th>number_diagnoses</th>\n",
       "      <th>max_glu_serum</th>\n",
       "      <th>A1Cresult</th>\n",
       "      <th>insulin</th>\n",
       "      <th>change</th>\n",
       "      <th>diabetesMed</th>\n",
       "      <th>readmitted</th>\n",
       "    </tr>\n",
       "  </thead>\n",
       "  <tbody>\n",
       "    <tr>\n",
       "      <th>0</th>\n",
       "      <td>Other</td>\n",
       "      <td>Female</td>\n",
       "      <td>70-80</td>\n",
       "      <td>2</td>\n",
       "      <td>3</td>\n",
       "      <td>1</td>\n",
       "      <td>14</td>\n",
       "      <td>NaN</td>\n",
       "      <td>InternalMedicine</td>\n",
       "      <td>32</td>\n",
       "      <td>...</td>\n",
       "      <td>486</td>\n",
       "      <td>404</td>\n",
       "      <td>428</td>\n",
       "      <td>9</td>\n",
       "      <td>None</td>\n",
       "      <td>None</td>\n",
       "      <td>No</td>\n",
       "      <td>No</td>\n",
       "      <td>No</td>\n",
       "      <td>1</td>\n",
       "    </tr>\n",
       "    <tr>\n",
       "      <th>1</th>\n",
       "      <td>Caucasian</td>\n",
       "      <td>Female</td>\n",
       "      <td>80-90</td>\n",
       "      <td>1</td>\n",
       "      <td>3</td>\n",
       "      <td>5</td>\n",
       "      <td>4</td>\n",
       "      <td>MC</td>\n",
       "      <td>NaN</td>\n",
       "      <td>44</td>\n",
       "      <td>...</td>\n",
       "      <td>38</td>\n",
       "      <td>438</td>\n",
       "      <td>599</td>\n",
       "      <td>9</td>\n",
       "      <td>None</td>\n",
       "      <td>None</td>\n",
       "      <td>Steady</td>\n",
       "      <td>Ch</td>\n",
       "      <td>Yes</td>\n",
       "      <td>0</td>\n",
       "    </tr>\n",
       "    <tr>\n",
       "      <th>2</th>\n",
       "      <td>AfricanAmerican</td>\n",
       "      <td>Male</td>\n",
       "      <td>50-60</td>\n",
       "      <td>5</td>\n",
       "      <td>1</td>\n",
       "      <td>1</td>\n",
       "      <td>6</td>\n",
       "      <td>HM</td>\n",
       "      <td>NaN</td>\n",
       "      <td>29</td>\n",
       "      <td>...</td>\n",
       "      <td>296</td>\n",
       "      <td>585</td>\n",
       "      <td>428</td>\n",
       "      <td>9</td>\n",
       "      <td>None</td>\n",
       "      <td>None</td>\n",
       "      <td>Up</td>\n",
       "      <td>Ch</td>\n",
       "      <td>Yes</td>\n",
       "      <td>1</td>\n",
       "    </tr>\n",
       "    <tr>\n",
       "      <th>3</th>\n",
       "      <td>Caucasian</td>\n",
       "      <td>Female</td>\n",
       "      <td>50-60</td>\n",
       "      <td>1</td>\n",
       "      <td>1</td>\n",
       "      <td>6</td>\n",
       "      <td>3</td>\n",
       "      <td>HM</td>\n",
       "      <td>InternalMedicine</td>\n",
       "      <td>47</td>\n",
       "      <td>...</td>\n",
       "      <td>250.02</td>\n",
       "      <td>401</td>\n",
       "      <td>493</td>\n",
       "      <td>4</td>\n",
       "      <td>None</td>\n",
       "      <td>&gt;8</td>\n",
       "      <td>No</td>\n",
       "      <td>Ch</td>\n",
       "      <td>Yes</td>\n",
       "      <td>0</td>\n",
       "    </tr>\n",
       "    <tr>\n",
       "      <th>4</th>\n",
       "      <td>AfricanAmerican</td>\n",
       "      <td>Female</td>\n",
       "      <td>40-50</td>\n",
       "      <td>3</td>\n",
       "      <td>1</td>\n",
       "      <td>1</td>\n",
       "      <td>4</td>\n",
       "      <td>UN</td>\n",
       "      <td>Hematology</td>\n",
       "      <td>92</td>\n",
       "      <td>...</td>\n",
       "      <td>486</td>\n",
       "      <td>287</td>\n",
       "      <td>595</td>\n",
       "      <td>7</td>\n",
       "      <td>None</td>\n",
       "      <td>&gt;7</td>\n",
       "      <td>No</td>\n",
       "      <td>No</td>\n",
       "      <td>No</td>\n",
       "      <td>0</td>\n",
       "    </tr>\n",
       "  </tbody>\n",
       "</table>\n",
       "<p>5 rows × 25 columns</p>\n",
       "</div>"
      ],
      "text/plain": [
       "              race  gender    age  admission_type  discharge_disposition  \\\n",
       "0            Other  Female  70-80               2                      3   \n",
       "1        Caucasian  Female  80-90               1                      3   \n",
       "2  AfricanAmerican    Male  50-60               5                      1   \n",
       "3        Caucasian  Female  50-60               1                      1   \n",
       "4  AfricanAmerican  Female  40-50               3                      1   \n",
       "\n",
       "   admission_source  time_in_hospital payer_code medical_specialty  \\\n",
       "0                 1                14        NaN  InternalMedicine   \n",
       "1                 5                 4         MC               NaN   \n",
       "2                 1                 6         HM               NaN   \n",
       "3                 6                 3         HM  InternalMedicine   \n",
       "4                 1                 4         UN        Hematology   \n",
       "\n",
       "   num_lab_procedures  ...  diag_1  diag_2  diag_3  number_diagnoses  \\\n",
       "0                  32  ...     486     404     428                 9   \n",
       "1                  44  ...      38     438     599                 9   \n",
       "2                  29  ...     296     585     428                 9   \n",
       "3                  47  ...  250.02     401     493                 4   \n",
       "4                  92  ...     486     287     595                 7   \n",
       "\n",
       "   max_glu_serum A1Cresult insulin change  diabetesMed readmitted  \n",
       "0           None      None      No     No           No          1  \n",
       "1           None      None  Steady     Ch          Yes          0  \n",
       "2           None      None      Up     Ch          Yes          1  \n",
       "3           None        >8      No     Ch          Yes          0  \n",
       "4           None        >7      No     No           No          0  \n",
       "\n",
       "[5 rows x 25 columns]"
      ]
     },
     "execution_count": 2,
     "metadata": {},
     "output_type": "execute_result"
    }
   ],
   "source": [
    "#Reading the data set:\n",
    "\n",
    "hc = pd.read_csv(\"healthcare.csv\")\n",
    "hc.head()"
   ]
  },
  {
   "cell_type": "code",
   "execution_count": 3,
   "metadata": {},
   "outputs": [],
   "source": [
    "# Importing the train_test_split and creating the split\n",
    "\n",
    "from sklearn.model_selection import train_test_split\n",
    "\n",
    "train_set, test_set = train_test_split(hc, test_size=0.3)"
   ]
  },
  {
   "cell_type": "code",
   "execution_count": 4,
   "metadata": {},
   "outputs": [
    {
     "data": {
      "text/plain": [
       "race                      117\n",
       "gender                      0\n",
       "age                         0\n",
       "admission_type              0\n",
       "discharge_disposition       0\n",
       "admission_source            0\n",
       "time_in_hospital            0\n",
       "payer_code               2486\n",
       "medical_specialty        3037\n",
       "num_lab_procedures          0\n",
       "num_procedures              0\n",
       "num_medications             0\n",
       "number_outpatient           0\n",
       "number_emergency            0\n",
       "number_inpatient            0\n",
       "diag_1                      2\n",
       "diag_2                     14\n",
       "diag_3                     64\n",
       "number_diagnoses            0\n",
       "max_glu_serum               0\n",
       "A1Cresult                   0\n",
       "insulin                     0\n",
       "change                      0\n",
       "diabetesMed                 0\n",
       "readmitted                  0\n",
       "dtype: int64"
      ]
     },
     "execution_count": 4,
     "metadata": {},
     "output_type": "execute_result"
    }
   ],
   "source": [
    "train_set.isna().sum()"
   ]
  },
  {
   "cell_type": "code",
   "execution_count": 5,
   "metadata": {},
   "outputs": [
    {
     "data": {
      "text/plain": [
       "race                       57\n",
       "gender                      0\n",
       "age                         0\n",
       "admission_type              0\n",
       "discharge_disposition       0\n",
       "admission_source            0\n",
       "time_in_hospital            0\n",
       "payer_code               1038\n",
       "medical_specialty        1312\n",
       "num_lab_procedures          0\n",
       "num_procedures              0\n",
       "num_medications             0\n",
       "number_outpatient           0\n",
       "number_emergency            0\n",
       "number_inpatient            0\n",
       "diag_1                      1\n",
       "diag_2                      6\n",
       "diag_3                     34\n",
       "number_diagnoses            0\n",
       "max_glu_serum               0\n",
       "A1Cresult                   0\n",
       "insulin                     0\n",
       "change                      0\n",
       "diabetesMed                 0\n",
       "readmitted                  0\n",
       "dtype: int64"
      ]
     },
     "execution_count": 5,
     "metadata": {},
     "output_type": "execute_result"
    }
   ],
   "source": [
    "test_set.isna().sum()"
   ]
  },
  {
   "cell_type": "code",
   "execution_count": 6,
   "metadata": {},
   "outputs": [],
   "source": [
    "#Imports for Pipeline\n",
    "from sklearn.compose import ColumnTransformer\n",
    "from sklearn.pipeline import Pipeline\n",
    "from sklearn.impute import SimpleImputer\n",
    "from sklearn.preprocessing import StandardScaler\n",
    "from sklearn.preprocessing import OneHotEncoder\n",
    "\n",
    "from sklearn.preprocessing import FunctionTransformer"
   ]
  },
  {
   "cell_type": "code",
   "execution_count": 7,
   "metadata": {},
   "outputs": [],
   "source": [
    "#Seperaring the Y Variable\n",
    "train_y = train_set['readmitted']\n",
    "test_y = test_set['readmitted']\n",
    "\n",
    "train_inputs = train_set.drop(['readmitted'], axis=1)\n",
    "test_inputs = test_set.drop(['readmitted'], axis=1)"
   ]
  },
  {
   "cell_type": "markdown",
   "metadata": {},
   "source": [
    "## Feature Engineering"
   ]
  },
  {
   "cell_type": "code",
   "execution_count": 8,
   "metadata": {},
   "outputs": [],
   "source": [
    "\n",
    "train_inputs['per_day_diagnosis']= train_inputs['number_diagnoses']/ train_inputs['time_in_hospital']\n",
    "test_inputs['per_day_diagnosis']= test_inputs['number_diagnoses']/ test_inputs['time_in_hospital']\n",
    "train_inputs['total_procedures']= train_inputs['num_lab_procedures']+train_inputs['num_procedures']\n",
    "test_inputs['total_procedures']= test_inputs['num_lab_procedures']+test_inputs['num_procedures']\n",
    "train_inputs['total_visits']= train_inputs['number_outpatient']+train_inputs['number_emergency']+train_inputs['number_inpatient']\n",
    "test_inputs['total_visits']= test_inputs['number_outpatient']+test_inputs['number_emergency']+test_inputs['number_inpatient']"
   ]
  },
  {
   "cell_type": "code",
   "execution_count": 9,
   "metadata": {},
   "outputs": [],
   "source": [
    "##  Identifying the numerical and categorical columns"
   ]
  },
  {
   "cell_type": "code",
   "execution_count": 10,
   "metadata": {},
   "outputs": [
    {
     "data": {
      "text/plain": [
       "race                      object\n",
       "gender                    object\n",
       "age                       object\n",
       "admission_type             int64\n",
       "discharge_disposition      int64\n",
       "admission_source           int64\n",
       "time_in_hospital           int64\n",
       "payer_code                object\n",
       "medical_specialty         object\n",
       "num_lab_procedures         int64\n",
       "num_procedures             int64\n",
       "num_medications            int64\n",
       "number_outpatient          int64\n",
       "number_emergency           int64\n",
       "number_inpatient           int64\n",
       "diag_1                    object\n",
       "diag_2                    object\n",
       "diag_3                    object\n",
       "number_diagnoses           int64\n",
       "max_glu_serum             object\n",
       "A1Cresult                 object\n",
       "insulin                   object\n",
       "change                    object\n",
       "diabetesMed               object\n",
       "per_day_diagnosis        float64\n",
       "total_procedures           int64\n",
       "total_visits               int64\n",
       "dtype: object"
      ]
     },
     "execution_count": 10,
     "metadata": {},
     "output_type": "execute_result"
    }
   ],
   "source": [
    "train_inputs.dtypes"
   ]
  },
  {
   "cell_type": "code",
   "execution_count": 11,
   "metadata": {},
   "outputs": [],
   "source": [
    "# Identifying the numerical columns\n",
    "numeric_columns = train_inputs.select_dtypes(include=[np.number]).columns.to_list()\n",
    "\n",
    "# Identifying the categorical columns\n",
    "categorical_columns = train_inputs.select_dtypes('object').columns.to_list()"
   ]
  },
  {
   "cell_type": "code",
   "execution_count": 12,
   "metadata": {},
   "outputs": [],
   "source": [
    "# Identifying the binary columns so we can pass them through without transforming\n",
    "binary_columns = []"
   ]
  },
  {
   "cell_type": "code",
   "execution_count": 13,
   "metadata": {},
   "outputs": [],
   "source": [
    "for col in binary_columns:\n",
    "    numeric_columns.remove(col)"
   ]
  },
  {
   "cell_type": "code",
   "execution_count": 14,
   "metadata": {},
   "outputs": [
    {
     "data": {
      "text/plain": [
       "[]"
      ]
     },
     "execution_count": 14,
     "metadata": {},
     "output_type": "execute_result"
    }
   ],
   "source": [
    "binary_columns"
   ]
  },
  {
   "cell_type": "code",
   "execution_count": 15,
   "metadata": {},
   "outputs": [
    {
     "data": {
      "text/plain": [
       "['admission_type',\n",
       " 'discharge_disposition',\n",
       " 'admission_source',\n",
       " 'time_in_hospital',\n",
       " 'num_lab_procedures',\n",
       " 'num_procedures',\n",
       " 'num_medications',\n",
       " 'number_outpatient',\n",
       " 'number_emergency',\n",
       " 'number_inpatient',\n",
       " 'number_diagnoses',\n",
       " 'per_day_diagnosis',\n",
       " 'total_procedures',\n",
       " 'total_visits']"
      ]
     },
     "execution_count": 15,
     "metadata": {},
     "output_type": "execute_result"
    }
   ],
   "source": [
    "numeric_columns"
   ]
  },
  {
   "cell_type": "code",
   "execution_count": 16,
   "metadata": {},
   "outputs": [
    {
     "data": {
      "text/plain": [
       "['race',\n",
       " 'gender',\n",
       " 'age',\n",
       " 'payer_code',\n",
       " 'medical_specialty',\n",
       " 'diag_1',\n",
       " 'diag_2',\n",
       " 'diag_3',\n",
       " 'max_glu_serum',\n",
       " 'A1Cresult',\n",
       " 'insulin',\n",
       " 'change',\n",
       " 'diabetesMed']"
      ]
     },
     "execution_count": 16,
     "metadata": {},
     "output_type": "execute_result"
    }
   ],
   "source": [
    "categorical_columns"
   ]
  },
  {
   "cell_type": "markdown",
   "metadata": {},
   "source": [
    "## Pipeline"
   ]
  },
  {
   "cell_type": "code",
   "execution_count": 17,
   "metadata": {},
   "outputs": [],
   "source": [
    "numeric_transformer = Pipeline(steps=[\n",
    "                ('imputer', SimpleImputer(strategy='median')),\n",
    "                ('scaler', StandardScaler())])"
   ]
  },
  {
   "cell_type": "code",
   "execution_count": 18,
   "metadata": {},
   "outputs": [],
   "source": [
    "categorical_transformer = Pipeline(steps=[\n",
    "    ('imputer', SimpleImputer(strategy='constant', fill_value='unknown')),\n",
    "    ('onehot', OneHotEncoder(handle_unknown='ignore'))])"
   ]
  },
  {
   "cell_type": "code",
   "execution_count": 19,
   "metadata": {},
   "outputs": [],
   "source": [
    "binary_transformer = Pipeline(steps=[\n",
    "    ('imputer', SimpleImputer(strategy='most_frequent'))])"
   ]
  },
  {
   "cell_type": "code",
   "execution_count": 20,
   "metadata": {},
   "outputs": [],
   "source": [
    "preprocessor = ColumnTransformer([\n",
    "        ('num', numeric_transformer, numeric_columns),\n",
    "        ('cat', categorical_transformer, categorical_columns),\n",
    "        ('binary', binary_transformer, binary_columns)],\n",
    "        remainder='passthrough')\n",
    "\n"
   ]
  },
  {
   "cell_type": "code",
   "execution_count": 21,
   "metadata": {},
   "outputs": [
    {
     "data": {
      "text/plain": [
       "<6066x1287 sparse matrix of type '<class 'numpy.float64'>'\n",
       "\twith 163782 stored elements in Compressed Sparse Row format>"
      ]
     },
     "execution_count": 21,
     "metadata": {},
     "output_type": "execute_result"
    }
   ],
   "source": [
    "#Fit and transformation of train data\n",
    "train_x = preprocessor.fit_transform(train_inputs)\n",
    "\n",
    "train_x"
   ]
  },
  {
   "cell_type": "code",
   "execution_count": 22,
   "metadata": {},
   "outputs": [
    {
     "data": {
      "text/plain": [
       "(6066, 1287)"
      ]
     },
     "execution_count": 22,
     "metadata": {},
     "output_type": "execute_result"
    }
   ],
   "source": [
    "train_x.shape"
   ]
  },
  {
   "cell_type": "code",
   "execution_count": 23,
   "metadata": {},
   "outputs": [
    {
     "data": {
      "text/plain": [
       "<2600x1287 sparse matrix of type '<class 'numpy.float64'>'\n",
       "\twith 70041 stored elements in Compressed Sparse Row format>"
      ]
     },
     "execution_count": 23,
     "metadata": {},
     "output_type": "execute_result"
    }
   ],
   "source": [
    "# Transform of test data\n",
    "test_x = preprocessor.transform(test_inputs)\n",
    "\n",
    "test_x"
   ]
  },
  {
   "cell_type": "code",
   "execution_count": 24,
   "metadata": {},
   "outputs": [
    {
     "data": {
      "text/plain": [
       "(2600, 1287)"
      ]
     },
     "execution_count": 24,
     "metadata": {},
     "output_type": "execute_result"
    }
   ],
   "source": [
    "test_x.shape"
   ]
  },
  {
   "cell_type": "markdown",
   "metadata": {},
   "source": [
    "# Baseline:"
   ]
  },
  {
   "cell_type": "code",
   "execution_count": 25,
   "metadata": {},
   "outputs": [
    {
     "data": {
      "text/plain": [
       "0    0.536268\n",
       "1    0.463732\n",
       "Name: readmitted, dtype: float64"
      ]
     },
     "execution_count": 25,
     "metadata": {},
     "output_type": "execute_result"
    }
   ],
   "source": [
    "train_y.value_counts()/len(train_y)"
   ]
  },
  {
   "cell_type": "markdown",
   "metadata": {},
   "source": [
    "# Decision Tree Model 1:"
   ]
  },
  {
   "cell_type": "code",
   "execution_count": 26,
   "metadata": {},
   "outputs": [
    {
     "data": {
      "text/plain": [
       "DecisionTreeClassifier(min_samples_leaf=12)"
      ]
     },
     "execution_count": 26,
     "metadata": {},
     "output_type": "execute_result"
    }
   ],
   "source": [
    "from sklearn.tree import DecisionTreeClassifier \n",
    "\n",
    "tree_clf = DecisionTreeClassifier(min_samples_leaf=12)\n",
    "\n",
    "tree_clf.fit(train_x, train_y)"
   ]
  },
  {
   "cell_type": "code",
   "execution_count": 27,
   "metadata": {},
   "outputs": [],
   "source": [
    "from sklearn.metrics import accuracy_score"
   ]
  },
  {
   "cell_type": "code",
   "execution_count": 28,
   "metadata": {},
   "outputs": [
    {
     "name": "stdout",
     "output_type": "stream",
     "text": [
      "0.7453016815034619\n"
     ]
    }
   ],
   "source": [
    "#Train accuracy:\n",
    "train_y_pred = tree_clf.predict(train_x)\n",
    "\n",
    "print(accuracy_score(train_y, train_y_pred))"
   ]
  },
  {
   "cell_type": "code",
   "execution_count": 29,
   "metadata": {},
   "outputs": [
    {
     "name": "stdout",
     "output_type": "stream",
     "text": [
      "0.565\n"
     ]
    }
   ],
   "source": [
    "#Test accuracy:\n",
    "test_y_pred = tree_clf.predict(test_x)\n",
    "\n",
    "print(accuracy_score(test_y, test_y_pred))"
   ]
  },
  {
   "cell_type": "code",
   "execution_count": 30,
   "metadata": {},
   "outputs": [
    {
     "data": {
      "text/plain": [
       "array([[831, 534],\n",
       "       [597, 638]])"
      ]
     },
     "execution_count": 30,
     "metadata": {},
     "output_type": "execute_result"
    }
   ],
   "source": [
    "from sklearn.metrics import confusion_matrix\n",
    "\n",
    "#Test confusion matrix\n",
    "confusion_matrix(test_y, test_y_pred)"
   ]
  },
  {
   "cell_type": "code",
   "execution_count": 31,
   "metadata": {},
   "outputs": [
    {
     "name": "stdout",
     "output_type": "stream",
     "text": [
      "              precision    recall  f1-score   support\n",
      "\n",
      "           0       0.58      0.61      0.60      1365\n",
      "           1       0.54      0.52      0.53      1235\n",
      "\n",
      "    accuracy                           0.56      2600\n",
      "   macro avg       0.56      0.56      0.56      2600\n",
      "weighted avg       0.56      0.56      0.56      2600\n",
      "\n"
     ]
    }
   ],
   "source": [
    "from sklearn.metrics import classification_report\n",
    "\n",
    "print(classification_report(test_y, test_y_pred))"
   ]
  },
  {
   "cell_type": "markdown",
   "metadata": {},
   "source": [
    "# Decision Tree Model 2:"
   ]
  },
  {
   "cell_type": "code",
   "execution_count": 32,
   "metadata": {},
   "outputs": [
    {
     "name": "stdout",
     "output_type": "stream",
     "text": [
      "Fitting 30 folds for each of 20 candidates, totalling 600 fits\n"
     ]
    },
    {
     "name": "stderr",
     "output_type": "stream",
     "text": [
      "[Parallel(n_jobs=1)]: Using backend SequentialBackend with 1 concurrent workers.\n",
      "[Parallel(n_jobs=1)]: Done 600 out of 600 | elapsed:  1.2min finished\n"
     ]
    },
    {
     "data": {
      "text/plain": [
       "RandomizedSearchCV(cv=30, estimator=DecisionTreeClassifier(), n_iter=20,\n",
       "                   param_distributions={'max_depth': <scipy.stats._distn_infrastructure.rv_frozen object at 0x7faba799ea00>,\n",
       "                                        'min_samples_leaf': <scipy.stats._distn_infrastructure.rv_frozen object at 0x7faba79865e0>},\n",
       "                   return_train_score=True, scoring='accuracy', verbose=1)"
      ]
     },
     "execution_count": 32,
     "metadata": {},
     "output_type": "execute_result"
    }
   ],
   "source": [
    "from sklearn.model_selection import RandomizedSearchCV\n",
    "from scipy.stats import randint\n",
    "\n",
    "param_grid = {'max_depth': randint(low=1, high=100), \n",
    "              'min_samples_leaf': randint(low=1, high=100)}\n",
    "\n",
    "tree_gs = RandomizedSearchCV(DecisionTreeClassifier(), param_grid, \n",
    "                             n_iter=20, cv=30, verbose=1,\n",
    "                             scoring='accuracy',\n",
    "                             return_train_score=True)\n",
    "\n",
    "tree_gs.fit(train_x, train_y)"
   ]
  },
  {
   "cell_type": "code",
   "execution_count": 33,
   "metadata": {},
   "outputs": [
    {
     "name": "stdout",
     "output_type": "stream",
     "text": [
      "0.5915004308312605 {'max_depth': 3, 'min_samples_leaf': 42}\n",
      "0.5507925669414232 {'max_depth': 58, 'min_samples_leaf': 2}\n",
      "0.5677591897120746 {'max_depth': 98, 'min_samples_leaf': 63}\n",
      "0.5831162919247589 {'max_depth': 46, 'min_samples_leaf': 44}\n",
      "0.6045147864540149 {'max_depth': 4, 'min_samples_leaf': 48}\n",
      "0.5491163894714595 {'max_depth': 88, 'min_samples_leaf': 5}\n",
      "0.5712123429091679 {'max_depth': 40, 'min_samples_leaf': 69}\n",
      "0.5939602334617697 {'max_depth': 6, 'min_samples_leaf': 72}\n",
      "0.5634630704449755 {'max_depth': 60, 'min_samples_leaf': 8}\n",
      "0.5727080589832383 {'max_depth': 34, 'min_samples_leaf': 58}\n",
      "0.5722130094782878 {'max_depth': 90, 'min_samples_leaf': 58}\n",
      "0.5710749646393211 {'max_depth': 72, 'min_samples_leaf': 29}\n",
      "0.5464826285584224 {'max_depth': 48, 'min_samples_leaf': 5}\n",
      "0.5733795054382286 {'max_depth': 62, 'min_samples_leaf': 52}\n",
      "0.5936350777934934 {'max_depth': 2, 'min_samples_leaf': 91}\n",
      "0.5715570079175406 {'max_depth': 75, 'min_samples_leaf': 25}\n",
      "0.5857199759384806 {'max_depth': 41, 'min_samples_leaf': 97}\n",
      "0.5733786925490578 {'max_depth': 37, 'min_samples_leaf': 52}\n",
      "0.5870392950625111 {'max_depth': 88, 'min_samples_leaf': 84}\n",
      "0.5278682794387815 {'max_depth': 68, 'min_samples_leaf': 3}\n"
     ]
    }
   ],
   "source": [
    "cvres = tree_gs.cv_results_\n",
    "\n",
    "for mean_score, params in zip(cvres[\"mean_test_score\"], cvres[\"params\"]):\n",
    "    print(mean_score, params)"
   ]
  },
  {
   "cell_type": "code",
   "execution_count": 34,
   "metadata": {},
   "outputs": [
    {
     "data": {
      "text/plain": [
       "{'max_depth': 4, 'min_samples_leaf': 48}"
      ]
     },
     "execution_count": 34,
     "metadata": {},
     "output_type": "execute_result"
    }
   ],
   "source": [
    "#Best parameter set\n",
    "tree_gs.best_params_"
   ]
  },
  {
   "cell_type": "code",
   "execution_count": 35,
   "metadata": {},
   "outputs": [
    {
     "data": {
      "text/plain": [
       "DecisionTreeClassifier(max_depth=4, min_samples_leaf=48)"
      ]
     },
     "execution_count": 35,
     "metadata": {},
     "output_type": "execute_result"
    }
   ],
   "source": [
    "tree_gs.best_estimator_"
   ]
  },
  {
   "cell_type": "code",
   "execution_count": 36,
   "metadata": {},
   "outputs": [
    {
     "name": "stdout",
     "output_type": "stream",
     "text": [
      "0.6160567095285197\n"
     ]
    }
   ],
   "source": [
    "#Train accuracy:\n",
    "train_y_pred = tree_gs.best_estimator_.predict(train_x)\n",
    "\n",
    "print(accuracy_score(train_y, train_y_pred))"
   ]
  },
  {
   "cell_type": "code",
   "execution_count": 37,
   "metadata": {},
   "outputs": [
    {
     "name": "stdout",
     "output_type": "stream",
     "text": [
      "0.6073076923076923\n"
     ]
    }
   ],
   "source": [
    "#Test accuracy:\n",
    "test_y_pred = tree_gs.best_estimator_.predict(test_x)\n",
    "\n",
    "print(accuracy_score(test_y, test_y_pred))"
   ]
  },
  {
   "cell_type": "code",
   "execution_count": 38,
   "metadata": {},
   "outputs": [
    {
     "data": {
      "text/plain": [
       "array([[1014,  351],\n",
       "       [ 670,  565]])"
      ]
     },
     "execution_count": 38,
     "metadata": {},
     "output_type": "execute_result"
    }
   ],
   "source": [
    "#Confusion matrix\n",
    "confusion_matrix(test_y, test_y_pred)"
   ]
  },
  {
   "cell_type": "raw",
   "metadata": {},
   "source": [
    "2nd Model with 'max_depth':4 and 'min_samples_leaf':48 performs the best as the accuracy for train data is 61.6% and test data is:60.7%  . Moreover, there is no overfitting, as the diffence between the train and test accuracy is less than 1%  (basline accuracy for is 53.6% )"
   ]
  }
 ],
 "metadata": {
  "kernelspec": {
   "display_name": "Python 3",
   "language": "python",
   "name": "python3"
  },
  "language_info": {
   "codemirror_mode": {
    "name": "ipython",
    "version": 3
   },
   "file_extension": ".py",
   "mimetype": "text/x-python",
   "name": "python",
   "nbconvert_exporter": "python",
   "pygments_lexer": "ipython3",
   "version": "3.8.3"
  }
 },
 "nbformat": 4,
 "nbformat_minor": 2
}
